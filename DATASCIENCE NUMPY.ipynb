{
 "cells": [
  {
   "cell_type": "markdown",
   "id": "009cbe6c",
   "metadata": {},
   "source": [
    "# NUMPY LIBRARY\n"
   ]
  },
  {
   "cell_type": "code",
   "execution_count": 100,
   "id": "872f1c2b",
   "metadata": {},
   "outputs": [],
   "source": [
    "import numpy as np"
   ]
  },
  {
   "cell_type": "code",
   "execution_count": 101,
   "id": "2763bc75",
   "metadata": {},
   "outputs": [
    {
     "data": {
      "text/plain": [
       "array(15)"
      ]
     },
     "execution_count": 101,
     "metadata": {},
     "output_type": "execute_result"
    }
   ],
   "source": [
    "#creating 0d array- scalar array\n",
    "arr1= np.array(15)\n",
    "arr1"
   ]
  },
  {
   "cell_type": "code",
   "execution_count": 102,
   "id": "47315c12",
   "metadata": {},
   "outputs": [
    {
     "data": {
      "text/plain": [
       "array([34, 53, 65, 97])"
      ]
     },
     "execution_count": 102,
     "metadata": {},
     "output_type": "execute_result"
    }
   ],
   "source": [
    "#creating 1 d array\n",
    "a = np.array([34,53,65,97])\n",
    "a"
   ]
  },
  {
   "cell_type": "code",
   "execution_count": 103,
   "id": "5135b364",
   "metadata": {},
   "outputs": [
    {
     "data": {
      "text/plain": [
       "numpy.ndarray"
      ]
     },
     "execution_count": 103,
     "metadata": {},
     "output_type": "execute_result"
    }
   ],
   "source": [
    "#to find the type of an array\n",
    "type(a)"
   ]
  },
  {
   "cell_type": "code",
   "execution_count": 104,
   "id": "ddc39007",
   "metadata": {},
   "outputs": [
    {
     "name": "stdout",
     "output_type": "stream",
     "text": [
      "1\n"
     ]
    }
   ],
   "source": [
    "#Dimension of array\n",
    "print(a.ndim)"
   ]
  },
  {
   "cell_type": "code",
   "execution_count": 105,
   "id": "9edeab8c",
   "metadata": {},
   "outputs": [
    {
     "name": "stdout",
     "output_type": "stream",
     "text": [
      "[[[10. 20. 30.]\n",
      "  [40. 50. 60.]]\n",
      "\n",
      " [[70. 80. 90.]\n",
      "  [41. 51. 61.]]]\n"
     ]
    }
   ],
   "source": [
    "#creating 3d array\n",
    "c = np.array([[(10,20,30),(40,50,60)],[(70,80,90),(41,51,61)]],dtype=float)\n",
    "print(c)"
   ]
  },
  {
   "cell_type": "code",
   "execution_count": 106,
   "id": "5d1b3daf",
   "metadata": {},
   "outputs": [
    {
     "name": "stdout",
     "output_type": "stream",
     "text": [
      "3\n"
     ]
    }
   ],
   "source": [
    "#Dimension of 3d array\n",
    "print(c.ndim)"
   ]
  },
  {
   "cell_type": "code",
   "execution_count": 107,
   "id": "13de79cb",
   "metadata": {},
   "outputs": [
    {
     "data": {
      "text/plain": [
       "array([[[11, 12, 13, 14]]])"
      ]
     },
     "execution_count": 107,
     "metadata": {},
     "output_type": "execute_result"
    }
   ],
   "source": [
    "#Defining number of dimensions \n",
    "x1 = np.array([11, 12, 13, 14], ndmin=3)\n",
    "x1"
   ]
  },
  {
   "cell_type": "code",
   "execution_count": 108,
   "id": "88fb8de8",
   "metadata": {},
   "outputs": [
    {
     "name": "stdout",
     "output_type": "stream",
     "text": [
      "[[0. 0. 0. 0.]\n",
      " [0. 0. 0. 0.]\n",
      " [0. 0. 0. 0.]\n",
      " [0. 0. 0. 0.]\n",
      " [0. 0. 0. 0.]\n",
      " [0. 0. 0. 0.]]\n"
     ]
    }
   ],
   "source": [
    "#creating a array of zeros\n",
    "x=np.zeros((6,4))\n",
    "print(x)"
   ]
  },
  {
   "cell_type": "code",
   "execution_count": 109,
   "id": "fcdd8742",
   "metadata": {},
   "outputs": [
    {
     "name": "stdout",
     "output_type": "stream",
     "text": [
      "[[1. 1. 1. 1. 1. 1. 1. 1.]\n",
      " [1. 1. 1. 1. 1. 1. 1. 1.]\n",
      " [1. 1. 1. 1. 1. 1. 1. 1.]\n",
      " [1. 1. 1. 1. 1. 1. 1. 1.]\n",
      " [1. 1. 1. 1. 1. 1. 1. 1.]]\n"
     ]
    }
   ],
   "source": [
    "#creating a array of ones\n",
    "x=np.ones((5,8))\n",
    "print(x)"
   ]
  },
  {
   "cell_type": "code",
   "execution_count": 110,
   "id": "55094c61",
   "metadata": {},
   "outputs": [
    {
     "name": "stdout",
     "output_type": "stream",
     "text": [
      "[[1. 0. 0. 0. 0.]\n",
      " [0. 1. 0. 0. 0.]\n",
      " [0. 0. 1. 0. 0.]\n",
      " [0. 0. 0. 1. 0.]\n",
      " [0. 0. 0. 0. 1.]]\n"
     ]
    }
   ],
   "source": [
    "#Eye Function:   Returns array filled with zeros except in the kth diagonal, whose values are equal to 1\n",
    "a= np.eye(5)\n",
    "print(a)"
   ]
  },
  {
   "cell_type": "code",
   "execution_count": 111,
   "id": "2530616e",
   "metadata": {},
   "outputs": [
    {
     "name": "stdout",
     "output_type": "stream",
     "text": [
      "[[1. 0. 0. 0. 0. 0.]\n",
      " [0. 1. 0. 0. 0. 0.]\n",
      " [0. 0. 1. 0. 0. 0.]\n",
      " [0. 0. 0. 1. 0. 0.]]\n"
     ]
    }
   ],
   "source": [
    "a= np.eye(4,6)\n",
    "print(a)"
   ]
  },
  {
   "cell_type": "code",
   "execution_count": 112,
   "id": "9672244d",
   "metadata": {},
   "outputs": [
    {
     "name": "stdout",
     "output_type": "stream",
     "text": [
      "[[0. 0. 0.]\n",
      " [0. 0. 0.]\n",
      " [1. 0. 0.]]\n"
     ]
    }
   ],
   "source": [
    "a=np.eye(3,k=-2)\n",
    "print(a)"
   ]
  },
  {
   "cell_type": "code",
   "execution_count": 113,
   "id": "256db570",
   "metadata": {},
   "outputs": [
    {
     "name": "stdout",
     "output_type": "stream",
     "text": [
      "[[0. 0. 0. 1. 0. 0.]\n",
      " [0. 0. 0. 0. 1. 0.]\n",
      " [0. 0. 0. 0. 0. 1.]\n",
      " [0. 0. 0. 0. 0. 0.]\n",
      " [0. 0. 0. 0. 0. 0.]\n",
      " [0. 0. 0. 0. 0. 0.]]\n"
     ]
    }
   ],
   "source": [
    "a=np.eye(6,k=3)\n",
    "print(a)"
   ]
  },
  {
   "cell_type": "code",
   "execution_count": 114,
   "id": "3e5d1573",
   "metadata": {},
   "outputs": [
    {
     "name": "stdout",
     "output_type": "stream",
     "text": [
      "[[1 0 0 0 0 0]\n",
      " [0 1 0 0 0 0]\n",
      " [0 0 1 0 0 0]\n",
      " [0 0 0 1 0 0]\n",
      " [0 0 0 0 1 0]\n",
      " [0 0 0 0 0 1]]\n"
     ]
    }
   ],
   "source": [
    "a = np.eye(6,dtype=int)\n",
    "print(a)"
   ]
  },
  {
   "cell_type": "markdown",
   "id": "640ae917",
   "metadata": {},
   "source": [
    "# Accessing array element"
   ]
  },
  {
   "cell_type": "code",
   "execution_count": 115,
   "id": "6f557be8",
   "metadata": {},
   "outputs": [
    {
     "name": "stdout",
     "output_type": "stream",
     "text": [
      "18\n",
      "38\n",
      "86\n"
     ]
    }
   ],
   "source": [
    "# Accessing 1 d array\n",
    "a = np.array([18, 28, 38, 48])\n",
    "\n",
    "print(a[0])\n",
    "print(a[2])\n",
    "print(a[2] + a[3])"
   ]
  },
  {
   "cell_type": "code",
   "execution_count": 116,
   "id": "d6cba3bb",
   "metadata": {},
   "outputs": [
    {
     "name": "stdout",
     "output_type": "stream",
     "text": [
      "20\n",
      "80\n",
      "40\n"
     ]
    }
   ],
   "source": [
    "#Access 2-D Arrays\n",
    "a=np.array([[10,20,30,40,50], [60,70,80,90,100]])\n",
    "print(a[0,1])\n",
    "print(a[1,2])\n",
    "print(a[0,3])"
   ]
  },
  {
   "cell_type": "code",
   "execution_count": 117,
   "id": "65847faf",
   "metadata": {},
   "outputs": [
    {
     "name": "stdout",
     "output_type": "stream",
     "text": [
      "93\n",
      "45\n",
      "19\n"
     ]
    }
   ],
   "source": [
    "#Access 3-D Arrays\n",
    "a = np.array([[[15, 12, 23], [43, 45, 65]], [[72, 82, 93], [14, 17, 19]]])\n",
    "\n",
    "print(a[1, 0, 2])\n",
    "print(a[0,1,1])\n",
    "print(a[1,1,2])"
   ]
  },
  {
   "cell_type": "code",
   "execution_count": 118,
   "id": "9baca9f8",
   "metadata": {},
   "outputs": [
    {
     "name": "stdout",
     "output_type": "stream",
     "text": [
      "57\n",
      "44\n",
      "93\n"
     ]
    }
   ],
   "source": [
    "#Negative Indexing\n",
    "a = np.array([[12,33,44,55], [66,57,93,12]])\n",
    "\n",
    "print(a[1, -3])\n",
    "print(a[0,-2])\n",
    "print(a[1,2])"
   ]
  },
  {
   "cell_type": "markdown",
   "id": "5b46c25b",
   "metadata": {},
   "source": [
    "# slicing arrays"
   ]
  },
  {
   "cell_type": "code",
   "execution_count": 119,
   "id": "fca9f9ea",
   "metadata": {},
   "outputs": [
    {
     "name": "stdout",
     "output_type": "stream",
     "text": [
      "[11 22 33 44 55]\n",
      "[22 33 44 55 66 77]\n",
      "[11 22 33 44 55 66 77]\n",
      "[44 55 66]\n",
      "[22 44]\n",
      "[11 44 77]\n",
      "[33 44 55 66]\n"
     ]
    }
   ],
   "source": [
    "a = np.array([11, 22, 33, 44,55,66,77])\n",
    "print(a[0:5])\n",
    "print(a[1:])\n",
    "print(a[:7])\n",
    "print(a[-4:-1])\n",
    "print(a[1:5:2])\n",
    "print(a[::3])\n",
    "print(a[2:6])"
   ]
  },
  {
   "cell_type": "code",
   "execution_count": 120,
   "id": "69877d87",
   "metadata": {},
   "outputs": [
    {
     "name": "stdout",
     "output_type": "stream",
     "text": [
      "[10 20 30 40]\n",
      "[ 70  80  90 100]\n"
     ]
    }
   ],
   "source": [
    "#Slicing 2-D Arrays\n",
    "a = np.array([[10, 20, 30, 40, 50], [60, 70, 80, 90, 100]])\n",
    "\n",
    "print(a[0, 0:4])\n",
    "print(a[1,1:5])"
   ]
  },
  {
   "cell_type": "code",
   "execution_count": 121,
   "id": "62873f12",
   "metadata": {},
   "outputs": [
    {
     "name": "stdout",
     "output_type": "stream",
     "text": [
      "[55 30]\n",
      "[[42 13 44]\n",
      " [37 58 79]]\n"
     ]
    }
   ],
   "source": [
    "a = np.array([[21, 42, 13, 44, 55], [26, 37, 58, 79, 30]])\n",
    "\n",
    "print(a[0:2,4])\n",
    "print(a[0:2, 1:4])"
   ]
  },
  {
   "cell_type": "code",
   "execution_count": null,
   "id": "d1772a7d",
   "metadata": {},
   "outputs": [],
   "source": []
  },
  {
   "cell_type": "code",
   "execution_count": null,
   "id": "1149b31f",
   "metadata": {},
   "outputs": [],
   "source": []
  },
  {
   "cell_type": "code",
   "execution_count": null,
   "id": "b94081c4",
   "metadata": {},
   "outputs": [],
   "source": []
  }
 ],
 "metadata": {
  "kernelspec": {
   "display_name": "Python 3 (ipykernel)",
   "language": "python",
   "name": "python3"
  },
  "language_info": {
   "codemirror_mode": {
    "name": "ipython",
    "version": 3
   },
   "file_extension": ".py",
   "mimetype": "text/x-python",
   "name": "python",
   "nbconvert_exporter": "python",
   "pygments_lexer": "ipython3",
   "version": "3.9.7"
  }
 },
 "nbformat": 4,
 "nbformat_minor": 5
}
